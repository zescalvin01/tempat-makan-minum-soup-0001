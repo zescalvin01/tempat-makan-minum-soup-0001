{
  "metadata": {
    "kernelspec": {
      "language": "python",
      "display_name": "Python 3",
      "name": "python3"
    },
    "language_info": {
      "name": "python",
      "version": "3.7.12",
      "mimetype": "text/x-python",
      "codemirror_mode": {
        "name": "ipython",
        "version": 3
      },
      "pygments_lexer": "ipython3",
      "nbconvert_exporter": "python",
      "file_extension": ".py"
    },
    "colab": {
      "name": "tempat-makan-minum-soup-colab.ipynb",
      "provenance": [],
      "collapsed_sections": []
    },
    "gpuClass": "standard"
  },
  "nbformat_minor": 0,
  "nbformat": 4,
  "cells": [
    {
      "cell_type": "code",
      "source": [
        "!pip install kaggle"
      ],
      "metadata": {
        "colab": {
          "base_uri": "https://localhost:8080/"
        },
        "id": "uWggAwuKAkgy",
        "outputId": "7cf27772-f6ce-447c-ead3-29d37682d3cb"
      },
      "execution_count": null,
      "outputs": [
        {
          "output_type": "stream",
          "name": "stdout",
          "text": [
            "Looking in indexes: https://pypi.org/simple, https://us-python.pkg.dev/colab-wheels/public/simple/\n",
            "Requirement already satisfied: kaggle in /usr/local/lib/python3.7/dist-packages (1.5.12)\n",
            "Requirement already satisfied: tqdm in /usr/local/lib/python3.7/dist-packages (from kaggle) (4.64.0)\n",
            "Requirement already satisfied: requests in /usr/local/lib/python3.7/dist-packages (from kaggle) (2.23.0)\n",
            "Requirement already satisfied: certifi in /usr/local/lib/python3.7/dist-packages (from kaggle) (2022.6.15)\n",
            "Requirement already satisfied: python-dateutil in /usr/local/lib/python3.7/dist-packages (from kaggle) (2.8.2)\n",
            "Requirement already satisfied: six>=1.10 in /usr/local/lib/python3.7/dist-packages (from kaggle) (1.15.0)\n",
            "Requirement already satisfied: python-slugify in /usr/local/lib/python3.7/dist-packages (from kaggle) (6.1.2)\n",
            "Requirement already satisfied: urllib3 in /usr/local/lib/python3.7/dist-packages (from kaggle) (1.24.3)\n",
            "Requirement already satisfied: text-unidecode>=1.3 in /usr/local/lib/python3.7/dist-packages (from python-slugify->kaggle) (1.3)\n",
            "Requirement already satisfied: idna<3,>=2.5 in /usr/local/lib/python3.7/dist-packages (from requests->kaggle) (2.10)\n",
            "Requirement already satisfied: chardet<4,>=3.0.2 in /usr/local/lib/python3.7/dist-packages (from requests->kaggle) (3.0.4)\n"
          ]
        }
      ]
    },
    {
      "cell_type": "code",
      "source": [
        "from google.colab import files\n",
        "files.upload()"
      ],
      "metadata": {
        "colab": {
          "resources": {
            "http://localhost:8080/nbextensions/google.colab/files.js": {
              "data": "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",
              "ok": true,
              "headers": [
                [
                  "content-type",
                  "application/javascript"
                ]
              ],
              "status": 200,
              "status_text": ""
            }
          },
          "base_uri": "https://localhost:8080/",
          "height": 56
        },
        "id": "Rwt8zjLbA7_6",
        "outputId": "bdff356a-55ee-4b90-df3d-e050c8a7eb0a"
      },
      "execution_count": null,
      "outputs": [
        {
          "output_type": "display_data",
          "data": {
            "text/plain": [
              "<IPython.core.display.HTML object>"
            ],
            "text/html": [
              "\n",
              "     <input type=\"file\" id=\"files-7782265f-665d-4ac0-a1b8-626e57073ac7\" name=\"files[]\" multiple disabled\n",
              "        style=\"border:none\" />\n",
              "     <output id=\"result-7782265f-665d-4ac0-a1b8-626e57073ac7\">\n",
              "      Upload widget is only available when the cell has been executed in the\n",
              "      current browser session. Please rerun this cell to enable.\n",
              "      </output>\n",
              "      <script src=\"/nbextensions/google.colab/files.js\"></script> "
            ]
          },
          "metadata": {}
        },
        {
          "output_type": "execute_result",
          "data": {
            "text/plain": [
              "{}"
            ]
          },
          "metadata": {},
          "execution_count": 2
        }
      ]
    },
    {
      "cell_type": "code",
      "source": [
        "!mkdir -p ~/.kaggle\n",
        "!cp kaggle.json ~/.kaggle/\n",
        "!chmod 600 ~/.kaggle/kaggle.json"
      ],
      "metadata": {
        "id": "VgNlPsHcA8H5"
      },
      "execution_count": null,
      "outputs": []
    },
    {
      "cell_type": "code",
      "source": [
        "!kaggle datasets download -d brammasosendifu/orang-puh-laki-kel-24"
      ],
      "metadata": {
        "colab": {
          "base_uri": "https://localhost:8080/"
        },
        "id": "MPHni8uBBAZe",
        "outputId": "1c585896-2e88-4094-881d-86957a785953"
      },
      "execution_count": null,
      "outputs": [
        {
          "output_type": "stream",
          "name": "stdout",
          "text": [
            "Downloading orang-puh-laki-kel-24.zip to /content\n",
            " 92% 44.0M/47.7M [00:00<00:00, 88.3MB/s]\n",
            "100% 47.7M/47.7M [00:00<00:00, 90.1MB/s]\n"
          ]
        }
      ]
    },
    {
      "cell_type": "code",
      "source": [
        "import zipfile,os\n",
        "zip_lcl = '/content/orang-puh-laki-kel-24.zip'\n",
        "rzip = zipfile.ZipFile(zip_lcl, 'r')\n",
        "rzip.extractall('/content')\n",
        "rzip.close()"
      ],
      "metadata": {
        "id": "Z9Gb1q79Bhcw"
      },
      "execution_count": null,
      "outputs": []
    },
    {
      "cell_type": "code",
      "source": [
        "import tensorflow as tf\n",
        "from tensorflow.keras.optimizers import RMSprop\n",
        "from tensorflow.keras.preprocessing.image import ImageDataGenerator\n",
        "import os"
      ],
      "metadata": {
        "id": "8KBcEd4PiS9D",
        "papermill": {
          "duration": 6.182871,
          "end_time": "2022-06-16T07:05:49.094727",
          "exception": false,
          "start_time": "2022-06-16T07:05:42.911856",
          "status": "completed"
        },
        "tags": [],
        "execution": {
          "iopub.status.busy": "2022-06-23T08:04:53.034964Z",
          "iopub.execute_input": "2022-06-23T08:04:53.035626Z",
          "iopub.status.idle": "2022-06-23T08:04:53.042105Z",
          "shell.execute_reply.started": "2022-06-23T08:04:53.035596Z",
          "shell.execute_reply": "2022-06-23T08:04:53.040832Z"
        },
        "trusted": true
      },
      "execution_count": null,
      "outputs": []
    },
    {
      "cell_type": "code",
      "source": [
        "BATCH_SIZE = 7"
      ],
      "metadata": {
        "execution": {
          "iopub.status.busy": "2022-06-23T08:04:53.072396Z",
          "iopub.execute_input": "2022-06-23T08:04:53.073082Z",
          "iopub.status.idle": "2022-06-23T08:04:53.079256Z",
          "shell.execute_reply.started": "2022-06-23T08:04:53.073042Z",
          "shell.execute_reply": "2022-06-23T08:04:53.077797Z"
        },
        "trusted": true,
        "id": "PkJ3lcsWY546"
      },
      "execution_count": null,
      "outputs": []
    },
    {
      "cell_type": "code",
      "source": [
        "#membuat base direktori dan mengeceknya\n",
        "base_dir = '/content/TRAIN'\n",
        "os.listdir(base_dir)"
      ],
      "metadata": {
        "id": "C7mU_wi4jcQb",
        "outputId": "3127b886-5200-4ed9-a350-59a231abec4e",
        "papermill": {
          "duration": 0.020595,
          "end_time": "2022-06-16T07:05:49.121976",
          "exception": false,
          "start_time": "2022-06-16T07:05:49.101381",
          "status": "completed"
        },
        "tags": [],
        "execution": {
          "iopub.status.busy": "2022-06-23T08:04:53.112623Z",
          "iopub.execute_input": "2022-06-23T08:04:53.112939Z",
          "iopub.status.idle": "2022-06-23T08:04:53.123166Z",
          "shell.execute_reply.started": "2022-06-23T08:04:53.112913Z",
          "shell.execute_reply": "2022-06-23T08:04:53.121421Z"
        },
        "trusted": true,
        "colab": {
          "base_uri": "https://localhost:8080/"
        }
      },
      "execution_count": null,
      "outputs": [
        {
          "output_type": "execute_result",
          "data": {
            "text/plain": [
              "['tempat makan', 'tempat minum', 'tempat soup']"
            ]
          },
          "metadata": {},
          "execution_count": 8
        }
      ]
    },
    {
      "cell_type": "code",
      "source": [
        "# membuat direktori batu\n",
        "rock_dir = os.path.join(base_dir, 'tempat makan')\n",
        "\n",
        "# membuat direktori gunting\n",
        "scissors_dir = os.path.join(base_dir, 'tempat minum')\n",
        "\n",
        "# membuat direktori kertas\n",
        "paper_dir = os.path.join(base_dir, 'tempat soup')"
      ],
      "metadata": {
        "id": "sK8-KjW_naGJ",
        "papermill": {
          "duration": 0.011134,
          "end_time": "2022-06-16T07:05:49.136549",
          "exception": false,
          "start_time": "2022-06-16T07:05:49.125415",
          "status": "completed"
        },
        "tags": [],
        "execution": {
          "iopub.status.busy": "2022-06-23T08:04:53.178514Z",
          "iopub.execute_input": "2022-06-23T08:04:53.178890Z",
          "iopub.status.idle": "2022-06-23T08:04:53.185270Z",
          "shell.execute_reply.started": "2022-06-23T08:04:53.178808Z",
          "shell.execute_reply": "2022-06-23T08:04:53.183913Z"
        },
        "trusted": true
      },
      "execution_count": null,
      "outputs": []
    },
    {
      "cell_type": "code",
      "source": [
        "#cek jumlah gambar batu\n",
        "print('total training rock images:', len(os.listdir(rock_dir)))\n",
        "#cek jumlah gambar gunting\n",
        "print('total training scissors images:', len(os.listdir(scissors_dir)))\n",
        "#cek jumlah gambar kertas\n",
        "print('total training paper images:', len(os.listdir(paper_dir)))"
      ],
      "metadata": {
        "id": "rqh6Ca5XoC-U",
        "outputId": "f9565c4a-a42d-43dc-e7e7-c2fcecf2281d",
        "papermill": {
          "duration": 0.07311,
          "end_time": "2022-06-16T07:05:49.213076",
          "exception": false,
          "start_time": "2022-06-16T07:05:49.139966",
          "status": "completed"
        },
        "tags": [],
        "execution": {
          "iopub.status.busy": "2022-06-23T08:04:53.230632Z",
          "iopub.execute_input": "2022-06-23T08:04:53.231183Z",
          "iopub.status.idle": "2022-06-23T08:04:53.241184Z",
          "shell.execute_reply.started": "2022-06-23T08:04:53.231152Z",
          "shell.execute_reply": "2022-06-23T08:04:53.239528Z"
        },
        "trusted": true,
        "colab": {
          "base_uri": "https://localhost:8080/"
        }
      },
      "execution_count": null,
      "outputs": [
        {
          "output_type": "stream",
          "name": "stdout",
          "text": [
            "total training rock images: 80\n",
            "total training scissors images: 80\n",
            "total training paper images: 80\n"
          ]
        }
      ]
    },
    {
      "cell_type": "code",
      "source": [
        "#train datagen\n",
        "train_datagen = ImageDataGenerator(rescale=1./255,\n",
        "    rotation_range=20,\n",
        "    horizontal_flip=True,\n",
        "    shear_range = 0.2,\n",
        "    width_shift_range=0.1,\n",
        "    height_shift_range=0.1,\n",
        "    fill_mode = 'nearest',\n",
        "    validation_split=0.1)"
      ],
      "metadata": {
        "id": "btzb4DcV_utq",
        "papermill": {
          "duration": 0.011142,
          "end_time": "2022-06-16T07:05:49.228588",
          "exception": false,
          "start_time": "2022-06-16T07:05:49.217446",
          "status": "completed"
        },
        "tags": [],
        "execution": {
          "iopub.status.busy": "2022-06-23T08:04:53.330617Z",
          "iopub.execute_input": "2022-06-23T08:04:53.333189Z",
          "iopub.status.idle": "2022-06-23T08:04:53.339435Z",
          "shell.execute_reply.started": "2022-06-23T08:04:53.333143Z",
          "shell.execute_reply": "2022-06-23T08:04:53.337931Z"
        },
        "trusted": true
      },
      "execution_count": null,
      "outputs": []
    },
    {
      "cell_type": "code",
      "source": [
        "#train generator dan validation generator\n",
        "train_dir = '/content/TRAIN'\n",
        "train_generator = train_datagen.flow_from_directory(\n",
        "    train_dir,\n",
        "    target_size=(150, 150),  # mengubah resolusi seluruh gambar menjadi 150x150 piksel\n",
        "    batch_size=BATCH_SIZE,\n",
        "    class_mode='categorical',\n",
        "    subset='training') # set as training data\n",
        "\n",
        "\n",
        "valid_dir = '/content/VALIDATION'\n",
        "validation_generator = train_datagen.flow_from_directory(\n",
        "    train_dir,\n",
        "    target_size=(150, 150),  # mengubah resolusi seluruh gambar menjadi 150x150 piksel\n",
        "    batch_size=BATCH_SIZE,\n",
        "    class_mode='categorical',\n",
        "    subset='validation') # set as validation data"
      ],
      "metadata": {
        "id": "AZvk-y7ECOXV",
        "outputId": "af273a5e-1288-4882-843a-baeda7e38690",
        "papermill": {
          "duration": 0.219528,
          "end_time": "2022-06-16T07:05:49.451440",
          "exception": false,
          "start_time": "2022-06-16T07:05:49.231912",
          "status": "completed"
        },
        "tags": [],
        "execution": {
          "iopub.status.busy": "2022-06-23T08:04:53.425191Z",
          "iopub.execute_input": "2022-06-23T08:04:53.426261Z",
          "iopub.status.idle": "2022-06-23T08:04:53.638394Z",
          "shell.execute_reply.started": "2022-06-23T08:04:53.426230Z",
          "shell.execute_reply": "2022-06-23T08:04:53.636397Z"
        },
        "trusted": true,
        "colab": {
          "base_uri": "https://localhost:8080/"
        }
      },
      "execution_count": null,
      "outputs": [
        {
          "output_type": "stream",
          "name": "stdout",
          "text": [
            "Found 216 images belonging to 3 classes.\n",
            "Found 24 images belonging to 3 classes.\n"
          ]
        }
      ]
    },
    {
      "cell_type": "code",
      "source": [
        "model = tf.keras.models.Sequential([\n",
        "    # Note the input shape is the desired size of the image 150x150 with 3 bytes color\n",
        "    # This is the first convolution\n",
        "    tf.keras.layers.Conv2D(64, (3,3), activation='relu', input_shape=(150, 150, 3)),\n",
        "    tf.keras.layers.MaxPooling2D(2, 2),\n",
        "    # The second convolution\n",
        "    tf.keras.layers.Conv2D(64, (3,3), activation='relu'),\n",
        "    tf.keras.layers.MaxPooling2D(2,2),\n",
        "    # The third convolution\n",
        "    tf.keras.layers.Conv2D(128, (3,3), activation='relu'),\n",
        "    tf.keras.layers.MaxPooling2D(2,2),\n",
        "    # The fourth convolution\n",
        "    tf.keras.layers.Conv2D(128, (3,3), activation='relu'),\n",
        "    tf.keras.layers.MaxPooling2D(2,2),\n",
        "    # Flatten the results to feed into a DNN\n",
        "    tf.keras.layers.Flatten(),\n",
        "    tf.keras.layers.Dropout(0.5),\n",
        "    # 512 neuron hidden layer\n",
        "    tf.keras.layers.Dense(512, activation='relu'),\n",
        "    tf.keras.layers.Dense(3, activation='softmax')\n",
        "])\n",
        "\n",
        "#ringkasan dari model\n",
        "model.summary()"
      ],
      "metadata": {
        "id": "tPxvFd6cEicv",
        "outputId": "e2169c1e-4ecf-408f-b461-74db62cbb253",
        "papermill": {
          "duration": 0.371836,
          "end_time": "2022-06-16T07:05:49.826846",
          "exception": false,
          "start_time": "2022-06-16T07:05:49.455010",
          "status": "completed"
        },
        "tags": [],
        "execution": {
          "iopub.status.busy": "2022-06-23T08:04:53.640411Z",
          "iopub.execute_input": "2022-06-23T08:04:53.640740Z",
          "iopub.status.idle": "2022-06-23T08:04:53.731679Z",
          "shell.execute_reply.started": "2022-06-23T08:04:53.640712Z",
          "shell.execute_reply": "2022-06-23T08:04:53.730275Z"
        },
        "trusted": true,
        "colab": {
          "base_uri": "https://localhost:8080/"
        }
      },
      "execution_count": null,
      "outputs": [
        {
          "output_type": "stream",
          "name": "stdout",
          "text": [
            "Model: \"sequential\"\n",
            "_________________________________________________________________\n",
            " Layer (type)                Output Shape              Param #   \n",
            "=================================================================\n",
            " conv2d (Conv2D)             (None, 148, 148, 64)      1792      \n",
            "                                                                 \n",
            " max_pooling2d (MaxPooling2D  (None, 74, 74, 64)       0         \n",
            " )                                                               \n",
            "                                                                 \n",
            " conv2d_1 (Conv2D)           (None, 72, 72, 64)        36928     \n",
            "                                                                 \n",
            " max_pooling2d_1 (MaxPooling  (None, 36, 36, 64)       0         \n",
            " 2D)                                                             \n",
            "                                                                 \n",
            " conv2d_2 (Conv2D)           (None, 34, 34, 128)       73856     \n",
            "                                                                 \n",
            " max_pooling2d_2 (MaxPooling  (None, 17, 17, 128)      0         \n",
            " 2D)                                                             \n",
            "                                                                 \n",
            " conv2d_3 (Conv2D)           (None, 15, 15, 128)       147584    \n",
            "                                                                 \n",
            " max_pooling2d_3 (MaxPooling  (None, 7, 7, 128)        0         \n",
            " 2D)                                                             \n",
            "                                                                 \n",
            " flatten (Flatten)           (None, 6272)              0         \n",
            "                                                                 \n",
            " dropout (Dropout)           (None, 6272)              0         \n",
            "                                                                 \n",
            " dense (Dense)               (None, 512)               3211776   \n",
            "                                                                 \n",
            " dense_1 (Dense)             (None, 3)                 1539      \n",
            "                                                                 \n",
            "=================================================================\n",
            "Total params: 3,473,475\n",
            "Trainable params: 3,473,475\n",
            "Non-trainable params: 0\n",
            "_________________________________________________________________\n"
          ]
        }
      ]
    },
    {
      "cell_type": "code",
      "source": [
        "model_viz = tf.keras.utils.plot_model(model,\n",
        "                          to_file='model.png',\n",
        "                          show_shapes=True,\n",
        "                          show_layer_names=True,\n",
        "                          rankdir='TB',\n",
        "                          expand_nested=True,\n",
        "                          dpi=55)\n",
        "model_viz"
      ],
      "metadata": {
        "colab": {
          "base_uri": "https://localhost:8080/",
          "height": 820
        },
        "id": "ZsE06UQP6r0p",
        "outputId": "e7631594-7899-4c70-851c-160afe3eaa05"
      },
      "execution_count": null,
      "outputs": [
        {
          "output_type": "execute_result",
          "data": {
            "text/plain": [
              "<IPython.core.display.Image object>"
            ],
            "image/png": "[encoded data removed]"
          },
          "metadata": {},
          "execution_count": 14
        }
      ]
    },
    {
      "cell_type": "code",
      "source": [
        "model.compile(loss = 'categorical_crossentropy', optimizer='rmsprop', metrics=['accuracy'])\n",
        "\n",
        "history = model.fit(\n",
        "    train_generator, \n",
        "    epochs=25, \n",
        "    steps_per_epoch=25, \n",
        "    validation_data = validation_generator, \n",
        "    verbose = 1, \n",
        "    validation_steps=3)"
      ],
      "metadata": {
        "id": "JAglzKWMGFbQ",
        "outputId": "4f8da5a1-2661-4eb4-c024-4a54a93563cb",
        "papermill": {
          "duration": 251.270974,
          "end_time": "2022-06-16T07:10:01.102485",
          "exception": false,
          "start_time": "2022-06-16T07:05:49.831511",
          "status": "completed"
        },
        "tags": [],
        "execution": {
          "iopub.status.busy": "2022-06-23T08:04:53.734014Z",
          "iopub.execute_input": "2022-06-23T08:04:53.734797Z",
          "iopub.status.idle": "2022-06-23T08:08:30.841525Z",
          "shell.execute_reply.started": "2022-06-23T08:04:53.734756Z",
          "shell.execute_reply": "2022-06-23T08:08:30.840249Z"
        },
        "trusted": true,
        "colab": {
          "base_uri": "https://localhost:8080/"
        }
      },
      "execution_count": null,
      "outputs": [
        {
          "output_type": "stream",
          "name": "stdout",
          "text": [
            "Epoch 1/25\n",
            "25/25 [==============================] - 26s 913ms/step - loss: 1.3402 - accuracy: 0.3793 - val_loss: 1.1039 - val_accuracy: 0.2857\n",
            "Epoch 2/25\n",
            "25/25 [==============================] - 20s 776ms/step - loss: 1.1555 - accuracy: 0.4253 - val_loss: 0.9802 - val_accuracy: 0.5238\n",
            "Epoch 3/25\n",
            "25/25 [==============================] - 19s 744ms/step - loss: 0.9126 - accuracy: 0.5517 - val_loss: 0.9305 - val_accuracy: 0.4762\n",
            "Epoch 4/25\n",
            "25/25 [==============================] - 19s 745ms/step - loss: 0.8677 - accuracy: 0.5862 - val_loss: 1.0165 - val_accuracy: 0.5714\n",
            "Epoch 5/25\n",
            "25/25 [==============================] - 19s 743ms/step - loss: 1.0599 - accuracy: 0.5690 - val_loss: 2.1756 - val_accuracy: 0.3333\n",
            "Epoch 6/25\n",
            "25/25 [==============================] - 21s 822ms/step - loss: 0.8434 - accuracy: 0.6149 - val_loss: 0.6407 - val_accuracy: 0.7143\n",
            "Epoch 7/25\n",
            "25/25 [==============================] - 19s 739ms/step - loss: 0.6146 - accuracy: 0.7714 - val_loss: 0.5576 - val_accuracy: 0.7619\n",
            "Epoch 8/25\n",
            "25/25 [==============================] - 19s 739ms/step - loss: 0.5712 - accuracy: 0.8000 - val_loss: 0.4682 - val_accuracy: 0.9048\n",
            "Epoch 9/25\n",
            "25/25 [==============================] - 19s 740ms/step - loss: 0.6948 - accuracy: 0.7529 - val_loss: 0.8947 - val_accuracy: 0.6190\n",
            "Epoch 10/25\n",
            "25/25 [==============================] - 19s 738ms/step - loss: 0.4417 - accuracy: 0.8506 - val_loss: 0.6302 - val_accuracy: 0.8095\n",
            "Epoch 11/25\n",
            "25/25 [==============================] - 20s 763ms/step - loss: 0.5298 - accuracy: 0.8276 - val_loss: 0.2586 - val_accuracy: 0.9048\n",
            "Epoch 12/25\n",
            "25/25 [==============================] - 19s 741ms/step - loss: 0.4386 - accuracy: 0.8161 - val_loss: 0.5677 - val_accuracy: 0.7619\n",
            "Epoch 13/25\n",
            "25/25 [==============================] - 19s 739ms/step - loss: 0.3879 - accuracy: 0.8448 - val_loss: 0.5422 - val_accuracy: 0.8571\n",
            "Epoch 14/25\n",
            "25/25 [==============================] - 19s 741ms/step - loss: 0.4139 - accuracy: 0.8391 - val_loss: 0.7596 - val_accuracy: 0.9048\n",
            "Epoch 15/25\n",
            "25/25 [==============================] - 20s 791ms/step - loss: 0.3831 - accuracy: 0.8563 - val_loss: 0.4767 - val_accuracy: 0.8095\n",
            "Epoch 16/25\n",
            "25/25 [==============================] - 19s 742ms/step - loss: 0.2227 - accuracy: 0.9195 - val_loss: 0.7073 - val_accuracy: 0.8571\n",
            "Epoch 17/25\n",
            "25/25 [==============================] - 19s 749ms/step - loss: 0.6255 - accuracy: 0.8229 - val_loss: 0.2203 - val_accuracy: 0.9048\n",
            "Epoch 18/25\n",
            "25/25 [==============================] - 19s 740ms/step - loss: 0.2515 - accuracy: 0.9023 - val_loss: 0.1305 - val_accuracy: 0.9524\n",
            "Epoch 19/25\n",
            "25/25 [==============================] - 20s 787ms/step - loss: 0.3352 - accuracy: 0.9023 - val_loss: 0.2922 - val_accuracy: 0.9048\n",
            "Epoch 20/25\n",
            "25/25 [==============================] - 19s 739ms/step - loss: 0.2490 - accuracy: 0.9138 - val_loss: 0.4756 - val_accuracy: 0.9524\n",
            "Epoch 21/25\n",
            "25/25 [==============================] - 19s 742ms/step - loss: 0.4369 - accuracy: 0.8971 - val_loss: 0.3867 - val_accuracy: 0.8571\n",
            "Epoch 22/25\n",
            "25/25 [==============================] - 19s 741ms/step - loss: 0.1800 - accuracy: 0.9425 - val_loss: 0.3496 - val_accuracy: 0.9524\n",
            "Epoch 23/25\n",
            "25/25 [==============================] - 20s 787ms/step - loss: 0.3088 - accuracy: 0.9138 - val_loss: 0.5527 - val_accuracy: 0.8095\n",
            "Epoch 24/25\n",
            "25/25 [==============================] - 19s 744ms/step - loss: 0.2474 - accuracy: 0.9143 - val_loss: 0.1906 - val_accuracy: 0.9048\n",
            "Epoch 25/25\n",
            "25/25 [==============================] - 19s 738ms/step - loss: 0.1311 - accuracy: 0.9425 - val_loss: 0.0395 - val_accuracy: 1.0000\n"
          ]
        }
      ]
    },
    {
      "cell_type": "code",
      "source": [
        "#buat grafik akurasi\n",
        "import matplotlib.pyplot as plt\n",
        "acc = history.history['accuracy']\n",
        "val_acc = history.history['val_accuracy']\n",
        "loss = history.history['loss']\n",
        "val_loss = history.history['val_loss']\n",
        "\n",
        "epochs = range(len(acc))\n",
        "\n",
        "plt.plot(epochs, acc, 'r', label='Training accuracy')\n",
        "plt.plot(epochs, val_acc, 'b', label='Validation accuracy')\n",
        "plt.title('Training and validation accuracy')\n",
        "plt.legend(loc=0)\n",
        "plt.figure()\n",
        "\n",
        "\n",
        "plt.show()"
      ],
      "metadata": {
        "id": "LHNHVJRfHrBM",
        "outputId": "55fc7dec-6999-47e5-c2d7-0b6156ae1795",
        "papermill": {
          "duration": 0.257855,
          "end_time": "2022-06-16T07:10:01.397869",
          "exception": false,
          "start_time": "2022-06-16T07:10:01.140014",
          "status": "completed"
        },
        "tags": [],
        "execution": {
          "iopub.status.busy": "2022-06-23T08:08:30.845760Z",
          "iopub.execute_input": "2022-06-23T08:08:30.846079Z",
          "iopub.status.idle": "2022-06-23T08:08:31.078295Z",
          "shell.execute_reply.started": "2022-06-23T08:08:30.846051Z",
          "shell.execute_reply": "2022-06-23T08:08:31.077063Z"
        },
        "trusted": true,
        "colab": {
          "base_uri": "https://localhost:8080/",
          "height": 298
        }
      },
      "execution_count": null,
      "outputs": [
        {
          "output_type": "display_data",
          "data": {
            "text/plain": [
              "<Figure size 432x288 with 1 Axes>"
            ],
            "image/png": "[encoded data removed]"
          },
          "metadata": {
            "needs_background": "light"
          }
        },
        {
          "output_type": "display_data",
          "data": {
            "text/plain": [
              "<Figure size 432x288 with 0 Axes>"
            ]
          },
          "metadata": {}
        }
      ]
    },
    {
      "cell_type": "code",
      "source": [
        "model.save('model.hdf5')"
      ],
      "metadata": {
        "id": "JcEDF4H8tbyi"
      },
      "execution_count": null,
      "outputs": []
    }
  ]
}